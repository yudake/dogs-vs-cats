{
 "cells": [
  {
   "cell_type": "markdown",
   "metadata": {},
   "source": [
    "# 猫狗大战\n",
    "\n",
    "kaggle题目 [Dogs vs. Cats](https://www.kaggle.com/c/dogs-vs-cats)\n",
    "\n",
    "设计一种算法，区分图片中是猫还是狗。"
   ]
  },
  {
   "cell_type": "markdown",
   "metadata": {},
   "source": [
    "## 一、引入函数库\n",
    "\n",
    "- numpy: Anaconda环境自带\n",
    "- os： Anaconda环境自带\n",
    "- cPickle/pickle: python2/python3"
   ]
  },
  {
   "cell_type": "code",
   "execution_count": 1,
   "metadata": {
    "collapsed": true
   },
   "outputs": [],
   "source": [
    "import numpy as np\n",
    "import os\n",
    "import cPickle as pickle\n",
    "from sklearn.utils import shuffle"
   ]
  },
  {
   "cell_type": "markdown",
   "metadata": {},
   "source": [
    "## 二、数据处理"
   ]
  },
  {
   "cell_type": "code",
   "execution_count": 2,
   "metadata": {
    "collapsed": true
   },
   "outputs": [],
   "source": [
    "def get_files(file_dir):\n",
    "    dogs = []\n",
    "    label_dogs = []\n",
    "    cats = []\n",
    "    label_cats = []\n",
    "    for file in os.listdir(file_dir):\n",
    "        name = file.split('.')\n",
    "        if name[0] == 'dog':\n",
    "            dogs.append(file_dir + file)\n",
    "            label_dogs.append(1)\n",
    "        else:\n",
    "            cats.append(file_dir + file)\n",
    "            label_cats.append(0)\n",
    "    print('There are %d dogs\\nThere are %d cats' %(len(dogs), len(cats)))\n",
    "    \n",
    "    image_list = np.hstack((dogs, cats))\n",
    "    label_list = np.hstack((label_dogs, label_cats))\n",
    "        \n",
    "    temp = np.array([image_list, label_list])\n",
    "    temp = temp.transpose()\n",
    "    temp = shuffle(temp)     # 打乱图片顺序\n",
    "        \n",
    "    image_list = list(temp[:, 0])\n",
    "    label_list = list(temp[:, 1])\n",
    "    label_list = [int(i) for i in label_list]\n",
    "    print(label_list[0:5])\n",
    "    \n",
    "    return image_list, label_list"
   ]
  },
  {
   "cell_type": "code",
   "execution_count": 3,
   "metadata": {
    "collapsed": true,
    "scrolled": true
   },
   "outputs": [],
   "source": [
    "file_dir = '/home/yudake/Desktop/cat_vs_dog/data/train/'\n",
    "image_list, label_list = get_files(file_dir)\n",
    "pickle.dump((image_list, label_list), open('data_process/train_image_label_list.p', 'wb'))"
   ]
  }
 ],
 "metadata": {
  "kernelspec": {
   "display_name": "Python 2",
   "language": "python",
   "name": "python2"
  },
  "language_info": {
   "codemirror_mode": {
    "name": "ipython",
    "version": 2
   },
   "file_extension": ".py",
   "mimetype": "text/x-python",
   "name": "python",
   "nbconvert_exporter": "python",
   "pygments_lexer": "ipython2",
   "version": "2.7.13"
  }
 },
 "nbformat": 4,
 "nbformat_minor": 2
}
